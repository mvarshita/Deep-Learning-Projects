{
 "cells": [
  {
   "cell_type": "markdown",
   "metadata": {},
   "source": [
    "# Bank Customer's Churn Classification"
   ]
  },
  {
   "cell_type": "markdown",
   "metadata": {},
   "source": [
    "Classifying bank customers based on their previous bank activities, that they will exit/leave the bank or not."
   ]
  },
  {
   "cell_type": "markdown",
   "metadata": {},
   "source": [
    "Dataset: https://www.kaggle.com/shrutimechlearn/churn-modelling"
   ]
  },
  {
   "cell_type": "markdown",
   "metadata": {},
   "source": [
    "**Importing the libraries**"
   ]
  },
  {
   "cell_type": "code",
   "execution_count": 1,
   "metadata": {},
   "outputs": [],
   "source": [
    "import numpy as np\n",
    "import matplotlib.pyplot as plt\n",
    "import pandas as pd\n",
    "import seaborn as sns"
   ]
  },
  {
   "cell_type": "markdown",
   "metadata": {},
   "source": [
    "**Importing the dataset**"
   ]
  },
  {
   "cell_type": "code",
   "execution_count": 2,
   "metadata": {},
   "outputs": [],
   "source": [
    "dataset = pd.read_csv('Churn_Modelling.csv')"
   ]
  },
  {
   "cell_type": "markdown",
   "metadata": {},
   "source": [
    "**Exploring the dataset**"
   ]
  },
  {
   "cell_type": "code",
   "execution_count": 3,
   "metadata": {},
   "outputs": [
    {
     "data": {
      "text/plain": [
       "(10000, 14)"
      ]
     },
     "execution_count": 3,
     "metadata": {},
     "output_type": "execute_result"
    }
   ],
   "source": [
    "dataset.shape"
   ]
  },
  {
   "cell_type": "code",
   "execution_count": 4,
   "metadata": {},
   "outputs": [
    {
     "data": {
      "text/plain": [
       "Index(['RowNumber', 'CustomerId', 'Surname', 'CreditScore', 'Geography',\n",
       "       'Gender', 'Age', 'Tenure', 'Balance', 'NumOfProducts', 'HasCrCard',\n",
       "       'IsActiveMember', 'EstimatedSalary', 'Exited'],\n",
       "      dtype='object')"
      ]
     },
     "execution_count": 4,
     "metadata": {},
     "output_type": "execute_result"
    }
   ],
   "source": [
    "dataset.columns"
   ]
  },
  {
   "cell_type": "code",
   "execution_count": 5,
   "metadata": {},
   "outputs": [
    {
     "data": {
      "text/html": [
       "<div>\n",
       "<style scoped>\n",
       "    .dataframe tbody tr th:only-of-type {\n",
       "        vertical-align: middle;\n",
       "    }\n",
       "\n",
       "    .dataframe tbody tr th {\n",
       "        vertical-align: top;\n",
       "    }\n",
       "\n",
       "    .dataframe thead th {\n",
       "        text-align: right;\n",
       "    }\n",
       "</style>\n",
       "<table border=\"1\" class=\"dataframe\">\n",
       "  <thead>\n",
       "    <tr style=\"text-align: right;\">\n",
       "      <th></th>\n",
       "      <th>RowNumber</th>\n",
       "      <th>CustomerId</th>\n",
       "      <th>Surname</th>\n",
       "      <th>CreditScore</th>\n",
       "      <th>Geography</th>\n",
       "      <th>Gender</th>\n",
       "      <th>Age</th>\n",
       "      <th>Tenure</th>\n",
       "      <th>Balance</th>\n",
       "      <th>NumOfProducts</th>\n",
       "      <th>HasCrCard</th>\n",
       "      <th>IsActiveMember</th>\n",
       "      <th>EstimatedSalary</th>\n",
       "      <th>Exited</th>\n",
       "    </tr>\n",
       "  </thead>\n",
       "  <tbody>\n",
       "    <tr>\n",
       "      <th>0</th>\n",
       "      <td>1</td>\n",
       "      <td>15634602</td>\n",
       "      <td>Hargrave</td>\n",
       "      <td>619</td>\n",
       "      <td>France</td>\n",
       "      <td>Female</td>\n",
       "      <td>42</td>\n",
       "      <td>2</td>\n",
       "      <td>0.00</td>\n",
       "      <td>1</td>\n",
       "      <td>1</td>\n",
       "      <td>1</td>\n",
       "      <td>101348.88</td>\n",
       "      <td>1</td>\n",
       "    </tr>\n",
       "    <tr>\n",
       "      <th>1</th>\n",
       "      <td>2</td>\n",
       "      <td>15647311</td>\n",
       "      <td>Hill</td>\n",
       "      <td>608</td>\n",
       "      <td>Spain</td>\n",
       "      <td>Female</td>\n",
       "      <td>41</td>\n",
       "      <td>1</td>\n",
       "      <td>83807.86</td>\n",
       "      <td>1</td>\n",
       "      <td>0</td>\n",
       "      <td>1</td>\n",
       "      <td>112542.58</td>\n",
       "      <td>0</td>\n",
       "    </tr>\n",
       "    <tr>\n",
       "      <th>2</th>\n",
       "      <td>3</td>\n",
       "      <td>15619304</td>\n",
       "      <td>Onio</td>\n",
       "      <td>502</td>\n",
       "      <td>France</td>\n",
       "      <td>Female</td>\n",
       "      <td>42</td>\n",
       "      <td>8</td>\n",
       "      <td>159660.80</td>\n",
       "      <td>3</td>\n",
       "      <td>1</td>\n",
       "      <td>0</td>\n",
       "      <td>113931.57</td>\n",
       "      <td>1</td>\n",
       "    </tr>\n",
       "    <tr>\n",
       "      <th>3</th>\n",
       "      <td>4</td>\n",
       "      <td>15701354</td>\n",
       "      <td>Boni</td>\n",
       "      <td>699</td>\n",
       "      <td>France</td>\n",
       "      <td>Female</td>\n",
       "      <td>39</td>\n",
       "      <td>1</td>\n",
       "      <td>0.00</td>\n",
       "      <td>2</td>\n",
       "      <td>0</td>\n",
       "      <td>0</td>\n",
       "      <td>93826.63</td>\n",
       "      <td>0</td>\n",
       "    </tr>\n",
       "    <tr>\n",
       "      <th>4</th>\n",
       "      <td>5</td>\n",
       "      <td>15737888</td>\n",
       "      <td>Mitchell</td>\n",
       "      <td>850</td>\n",
       "      <td>Spain</td>\n",
       "      <td>Female</td>\n",
       "      <td>43</td>\n",
       "      <td>2</td>\n",
       "      <td>125510.82</td>\n",
       "      <td>1</td>\n",
       "      <td>1</td>\n",
       "      <td>1</td>\n",
       "      <td>79084.10</td>\n",
       "      <td>0</td>\n",
       "    </tr>\n",
       "  </tbody>\n",
       "</table>\n",
       "</div>"
      ],
      "text/plain": [
       "   RowNumber  CustomerId   Surname  CreditScore Geography  Gender  Age  \\\n",
       "0          1    15634602  Hargrave          619    France  Female   42   \n",
       "1          2    15647311      Hill          608     Spain  Female   41   \n",
       "2          3    15619304      Onio          502    France  Female   42   \n",
       "3          4    15701354      Boni          699    France  Female   39   \n",
       "4          5    15737888  Mitchell          850     Spain  Female   43   \n",
       "\n",
       "   Tenure    Balance  NumOfProducts  HasCrCard  IsActiveMember  \\\n",
       "0       2       0.00              1          1               1   \n",
       "1       1   83807.86              1          0               1   \n",
       "2       8  159660.80              3          1               0   \n",
       "3       1       0.00              2          0               0   \n",
       "4       2  125510.82              1          1               1   \n",
       "\n",
       "   EstimatedSalary  Exited  \n",
       "0        101348.88       1  \n",
       "1        112542.58       0  \n",
       "2        113931.57       1  \n",
       "3         93826.63       0  \n",
       "4         79084.10       0  "
      ]
     },
     "execution_count": 5,
     "metadata": {},
     "output_type": "execute_result"
    }
   ],
   "source": [
    "dataset.head()"
   ]
  },
  {
   "cell_type": "code",
   "execution_count": 6,
   "metadata": {},
   "outputs": [
    {
     "data": {
      "text/plain": [
       "RowNumber            int64\n",
       "CustomerId           int64\n",
       "Surname             object\n",
       "CreditScore          int64\n",
       "Geography           object\n",
       "Gender              object\n",
       "Age                  int64\n",
       "Tenure               int64\n",
       "Balance            float64\n",
       "NumOfProducts        int64\n",
       "HasCrCard            int64\n",
       "IsActiveMember       int64\n",
       "EstimatedSalary    float64\n",
       "Exited               int64\n",
       "dtype: object"
      ]
     },
     "execution_count": 6,
     "metadata": {},
     "output_type": "execute_result"
    }
   ],
   "source": [
    "dataset.dtypes"
   ]
  },
  {
   "cell_type": "markdown",
   "metadata": {},
   "source": [
    "**Visualizing the count of 'Exited customers' from the dataset**"
   ]
  },
  {
   "cell_type": "code",
   "execution_count": 7,
   "metadata": {},
   "outputs": [
    {
     "data": {
      "image/png": "[encoded data removed]",
      "text/plain": [
       "<Figure size 576x576 with 1 Axes>"
      ]
     },
     "metadata": {
      "needs_background": "light"
     },
     "output_type": "display_data"
    }
   ],
   "source": [
    "plt.figure(figsize=(8,8))\n",
    "sns.countplot(x='Exited', data=dataset)\n",
    "plt.xlabel('0: Customers still with the bank, 1: Customers exited the bank')\n",
    "plt.ylabel('Count')\n",
    "plt.title('Bank Customers Churn Visualization')\n",
    "plt.show()"
   ]
  },
  {
   "cell_type": "code",
   "execution_count": 8,
   "metadata": {},
   "outputs": [
    {
     "data": {
      "text/plain": [
       "RowNumber          False\n",
       "CustomerId         False\n",
       "Surname            False\n",
       "CreditScore        False\n",
       "Geography          False\n",
       "Gender             False\n",
       "Age                False\n",
       "Tenure             False\n",
       "Balance            False\n",
       "NumOfProducts      False\n",
       "HasCrCard          False\n",
       "IsActiveMember     False\n",
       "EstimatedSalary    False\n",
       "Exited             False\n",
       "dtype: bool"
      ]
     },
     "execution_count": 8,
     "metadata": {},
     "output_type": "execute_result"
    }
   ],
   "source": [
    "dataset.isna().any()"
   ]
  },
  {
   "cell_type": "code",
   "execution_count": 9,
   "metadata": {},
   "outputs": [
    {
     "data": {
      "text/plain": [
       "Index(['CreditScore', 'Geography', 'Gender', 'Age', 'Tenure', 'Balance',\n",
       "       'NumOfProducts', 'HasCrCard', 'IsActiveMember', 'EstimatedSalary',\n",
       "       'Exited'],\n",
       "      dtype='object')"
      ]
     },
     "execution_count": 9,
     "metadata": {},
     "output_type": "execute_result"
    }
   ],
   "source": [
    "dataset.drop(['RowNumber','CustomerId','Surname'], axis=1, inplace=True)\n",
    "dataset.columns"
   ]
  },
  {
   "cell_type": "markdown",
   "metadata": {},
   "source": [
    "# Feature Engineering"
   ]
  },
  {
   "cell_type": "markdown",
   "metadata": {},
   "source": [
    "**Create dummy variables**"
   ]
  },
  {
   "cell_type": "code",
   "execution_count": 10,
   "metadata": {},
   "outputs": [],
   "source": [
    "geography=pd.get_dummies(dataset[\"Geography\"],drop_first=True)\n",
    "gender=pd.get_dummies(dataset['Gender'],drop_first=True)"
   ]
  },
  {
   "cell_type": "code",
   "execution_count": 11,
   "metadata": {},
   "outputs": [
    {
     "data": {
      "text/plain": [
       "Index(['CreditScore', 'Geography', 'Gender', 'Age', 'Tenure', 'Balance',\n",
       "       'NumOfProducts', 'HasCrCard', 'IsActiveMember', 'EstimatedSalary',\n",
       "       'Exited', 'Germany', 'Spain', 'Male'],\n",
       "      dtype='object')"
      ]
     },
     "execution_count": 11,
     "metadata": {},
     "output_type": "execute_result"
    }
   ],
   "source": [
    "df = pd.concat([dataset, geography, gender], axis=1)\n",
    "df.columns"
   ]
  },
  {
   "cell_type": "code",
   "execution_count": 12,
   "metadata": {},
   "outputs": [],
   "source": [
    "df.drop(['Geography', 'Gender'], axis=1, inplace=True)"
   ]
  },
  {
   "cell_type": "code",
   "execution_count": 13,
   "metadata": {
    "scrolled": true
   },
   "outputs": [
    {
     "data": {
      "text/html": [
       "<div>\n",
       "<style scoped>\n",
       "    .dataframe tbody tr th:only-of-type {\n",
       "        vertical-align: middle;\n",
       "    }\n",
       "\n",
       "    .dataframe tbody tr th {\n",
       "        vertical-align: top;\n",
       "    }\n",
       "\n",
       "    .dataframe thead th {\n",
       "        text-align: right;\n",
       "    }\n",
       "</style>\n",
       "<table border=\"1\" class=\"dataframe\">\n",
       "  <thead>\n",
       "    <tr style=\"text-align: right;\">\n",
       "      <th></th>\n",
       "      <th>CreditScore</th>\n",
       "      <th>Age</th>\n",
       "      <th>Tenure</th>\n",
       "      <th>Balance</th>\n",
       "      <th>NumOfProducts</th>\n",
       "      <th>HasCrCard</th>\n",
       "      <th>IsActiveMember</th>\n",
       "      <th>EstimatedSalary</th>\n",
       "      <th>Exited</th>\n",
       "      <th>Germany</th>\n",
       "      <th>Spain</th>\n",
       "      <th>Male</th>\n",
       "    </tr>\n",
       "  </thead>\n",
       "  <tbody>\n",
       "    <tr>\n",
       "      <th>0</th>\n",
       "      <td>619</td>\n",
       "      <td>42</td>\n",
       "      <td>2</td>\n",
       "      <td>0.00</td>\n",
       "      <td>1</td>\n",
       "      <td>1</td>\n",
       "      <td>1</td>\n",
       "      <td>101348.88</td>\n",
       "      <td>1</td>\n",
       "      <td>0</td>\n",
       "      <td>0</td>\n",
       "      <td>0</td>\n",
       "    </tr>\n",
       "    <tr>\n",
       "      <th>1</th>\n",
       "      <td>608</td>\n",
       "      <td>41</td>\n",
       "      <td>1</td>\n",
       "      <td>83807.86</td>\n",
       "      <td>1</td>\n",
       "      <td>0</td>\n",
       "      <td>1</td>\n",
       "      <td>112542.58</td>\n",
       "      <td>0</td>\n",
       "      <td>0</td>\n",
       "      <td>1</td>\n",
       "      <td>0</td>\n",
       "    </tr>\n",
       "    <tr>\n",
       "      <th>2</th>\n",
       "      <td>502</td>\n",
       "      <td>42</td>\n",
       "      <td>8</td>\n",
       "      <td>159660.80</td>\n",
       "      <td>3</td>\n",
       "      <td>1</td>\n",
       "      <td>0</td>\n",
       "      <td>113931.57</td>\n",
       "      <td>1</td>\n",
       "      <td>0</td>\n",
       "      <td>0</td>\n",
       "      <td>0</td>\n",
       "    </tr>\n",
       "    <tr>\n",
       "      <th>3</th>\n",
       "      <td>699</td>\n",
       "      <td>39</td>\n",
       "      <td>1</td>\n",
       "      <td>0.00</td>\n",
       "      <td>2</td>\n",
       "      <td>0</td>\n",
       "      <td>0</td>\n",
       "      <td>93826.63</td>\n",
       "      <td>0</td>\n",
       "      <td>0</td>\n",
       "      <td>0</td>\n",
       "      <td>0</td>\n",
       "    </tr>\n",
       "    <tr>\n",
       "      <th>4</th>\n",
       "      <td>850</td>\n",
       "      <td>43</td>\n",
       "      <td>2</td>\n",
       "      <td>125510.82</td>\n",
       "      <td>1</td>\n",
       "      <td>1</td>\n",
       "      <td>1</td>\n",
       "      <td>79084.10</td>\n",
       "      <td>0</td>\n",
       "      <td>0</td>\n",
       "      <td>1</td>\n",
       "      <td>0</td>\n",
       "    </tr>\n",
       "  </tbody>\n",
       "</table>\n",
       "</div>"
      ],
      "text/plain": [
       "   CreditScore  Age  Tenure    Balance  NumOfProducts  HasCrCard  \\\n",
       "0          619   42       2       0.00              1          1   \n",
       "1          608   41       1   83807.86              1          0   \n",
       "2          502   42       8  159660.80              3          1   \n",
       "3          699   39       1       0.00              2          0   \n",
       "4          850   43       2  125510.82              1          1   \n",
       "\n",
       "   IsActiveMember  EstimatedSalary  Exited  Germany  Spain  Male  \n",
       "0               1        101348.88       1        0      0     0  \n",
       "1               1        112542.58       0        0      1     0  \n",
       "2               0        113931.57       1        0      0     0  \n",
       "3               0         93826.63       0        0      0     0  \n",
       "4               1         79084.10       0        0      1     0  "
      ]
     },
     "execution_count": 13,
     "metadata": {},
     "output_type": "execute_result"
    }
   ],
   "source": [
    "df.head()"
   ]
  },
  {
   "cell_type": "code",
   "execution_count": 14,
   "metadata": {},
   "outputs": [],
   "source": [
    "X = df.drop('Exited', axis=1)\n",
    "Y = df['Exited']"
   ]
  },
  {
   "cell_type": "markdown",
   "metadata": {},
   "source": [
    "**Splitting the dataset into the Training set and Test set**"
   ]
  },
  {
   "cell_type": "code",
   "execution_count": 15,
   "metadata": {},
   "outputs": [
    {
     "name": "stdout",
     "output_type": "stream",
     "text": [
      "X_train size: (8000, 11), X_test size: (2000, 11)\n"
     ]
    }
   ],
   "source": [
    "from sklearn.model_selection import train_test_split\n",
    "xtrain, xtest, ytrain, ytest = train_test_split(X, Y, test_size = 0.2, random_state = 0)\n",
    "print('X_train size: {}, X_test size: {}'.format(xtrain.shape, xtest.shape))"
   ]
  },
  {
   "cell_type": "code",
   "execution_count": 16,
   "metadata": {},
   "outputs": [],
   "source": [
    "# Feature Scaling\n",
    "from sklearn.preprocessing import StandardScaler\n",
    "sc = StandardScaler()\n",
    "xtrain = sc.fit_transform(xtrain)\n",
    "xtest = sc.transform(xtest)"
   ]
  },
  {
   "cell_type": "markdown",
   "metadata": {},
   "source": [
    "# Building Artificial Neural Network (ANN)"
   ]
  },
  {
   "cell_type": "markdown",
   "metadata": {},
   "source": [
    "**Importing the Keras libraries and packages**"
   ]
  },
  {
   "cell_type": "code",
   "execution_count": 17,
   "metadata": {},
   "outputs": [
    {
     "name": "stderr",
     "output_type": "stream",
     "text": [
      "/home/varshita/anaconda3/lib/python3.6/site-packages/h5py/__init__.py:34: FutureWarning: Conversion of the second argument of issubdtype from `float` to `np.floating` is deprecated. In future, it will be treated as `np.float64 == np.dtype(float).type`.\n",
      "  from ._conv import register_converters as _register_converters\n",
      "Using TensorFlow backend.\n",
      "/home/varshita/.local/lib/python3.6/site-packages/tensorflow/python/framework/dtypes.py:516: FutureWarning: Passing (type, 1) or '1type' as a synonym of type is deprecated; in a future version of numpy, it will be understood as (type, (1,)) / '(1,)type'.\n",
      "  _np_qint8 = np.dtype([(\"qint8\", np.int8, 1)])\n",
      "/home/varshita/.local/lib/python3.6/site-packages/tensorflow/python/framework/dtypes.py:517: FutureWarning: Passing (type, 1) or '1type' as a synonym of type is deprecated; in a future version of numpy, it will be understood as (type, (1,)) / '(1,)type'.\n",
      "  _np_quint8 = np.dtype([(\"quint8\", np.uint8, 1)])\n",
      "/home/varshita/.local/lib/python3.6/site-packages/tensorflow/python/framework/dtypes.py:518: FutureWarning: Passing (type, 1) or '1type' as a synonym of type is deprecated; in a future version of numpy, it will be understood as (type, (1,)) / '(1,)type'.\n",
      "  _np_qint16 = np.dtype([(\"qint16\", np.int16, 1)])\n",
      "/home/varshita/.local/lib/python3.6/site-packages/tensorflow/python/framework/dtypes.py:519: FutureWarning: Passing (type, 1) or '1type' as a synonym of type is deprecated; in a future version of numpy, it will be understood as (type, (1,)) / '(1,)type'.\n",
      "  _np_quint16 = np.dtype([(\"quint16\", np.uint16, 1)])\n",
      "/home/varshita/.local/lib/python3.6/site-packages/tensorflow/python/framework/dtypes.py:520: FutureWarning: Passing (type, 1) or '1type' as a synonym of type is deprecated; in a future version of numpy, it will be understood as (type, (1,)) / '(1,)type'.\n",
      "  _np_qint32 = np.dtype([(\"qint32\", np.int32, 1)])\n",
      "/home/varshita/.local/lib/python3.6/site-packages/tensorflow/python/framework/dtypes.py:525: FutureWarning: Passing (type, 1) or '1type' as a synonym of type is deprecated; in a future version of numpy, it will be understood as (type, (1,)) / '(1,)type'.\n",
      "  np_resource = np.dtype([(\"resource\", np.ubyte, 1)])\n",
      "/home/varshita/.local/lib/python3.6/site-packages/tensorboard/compat/tensorflow_stub/dtypes.py:541: FutureWarning: Passing (type, 1) or '1type' as a synonym of type is deprecated; in a future version of numpy, it will be understood as (type, (1,)) / '(1,)type'.\n",
      "  _np_qint8 = np.dtype([(\"qint8\", np.int8, 1)])\n",
      "/home/varshita/.local/lib/python3.6/site-packages/tensorboard/compat/tensorflow_stub/dtypes.py:542: FutureWarning: Passing (type, 1) or '1type' as a synonym of type is deprecated; in a future version of numpy, it will be understood as (type, (1,)) / '(1,)type'.\n",
      "  _np_quint8 = np.dtype([(\"quint8\", np.uint8, 1)])\n",
      "/home/varshita/.local/lib/python3.6/site-packages/tensorboard/compat/tensorflow_stub/dtypes.py:543: FutureWarning: Passing (type, 1) or '1type' as a synonym of type is deprecated; in a future version of numpy, it will be understood as (type, (1,)) / '(1,)type'.\n",
      "  _np_qint16 = np.dtype([(\"qint16\", np.int16, 1)])\n",
      "/home/varshita/.local/lib/python3.6/site-packages/tensorboard/compat/tensorflow_stub/dtypes.py:544: FutureWarning: Passing (type, 1) or '1type' as a synonym of type is deprecated; in a future version of numpy, it will be understood as (type, (1,)) / '(1,)type'.\n",
      "  _np_quint16 = np.dtype([(\"quint16\", np.uint16, 1)])\n",
      "/home/varshita/.local/lib/python3.6/site-packages/tensorboard/compat/tensorflow_stub/dtypes.py:545: FutureWarning: Passing (type, 1) or '1type' as a synonym of type is deprecated; in a future version of numpy, it will be understood as (type, (1,)) / '(1,)type'.\n",
      "  _np_qint32 = np.dtype([(\"qint32\", np.int32, 1)])\n",
      "/home/varshita/.local/lib/python3.6/site-packages/tensorboard/compat/tensorflow_stub/dtypes.py:550: FutureWarning: Passing (type, 1) or '1type' as a synonym of type is deprecated; in a future version of numpy, it will be understood as (type, (1,)) / '(1,)type'.\n",
      "  np_resource = np.dtype([(\"resource\", np.ubyte, 1)])\n"
     ]
    }
   ],
   "source": [
    "import keras\n",
    "from keras.models import Sequential\n",
    "from keras.layers import Dense"
   ]
  },
  {
   "cell_type": "markdown",
   "metadata": {},
   "source": [
    "**Initialising the ANN**"
   ]
  },
  {
   "cell_type": "code",
   "execution_count": 18,
   "metadata": {},
   "outputs": [],
   "source": [
    "classifier = Sequential()"
   ]
  },
  {
   "cell_type": "markdown",
   "metadata": {},
   "source": [
    "**Adding the input layer and the first hidden layer**"
   ]
  },
  {
   "cell_type": "code",
   "execution_count": 19,
   "metadata": {},
   "outputs": [],
   "source": [
    "classifier.add(Dense(units = 6, kernel_initializer = 'he_uniform',activation='relu',input_dim = 11))"
   ]
  },
  {
   "cell_type": "markdown",
   "metadata": {},
   "source": [
    "**Adding the second hidden layer**"
   ]
  },
  {
   "cell_type": "code",
   "execution_count": 20,
   "metadata": {},
   "outputs": [],
   "source": [
    "classifier.add(Dense(units = 6, kernel_initializer = 'he_uniform',activation='relu'))"
   ]
  },
  {
   "cell_type": "markdown",
   "metadata": {},
   "source": [
    "**Adding the output layer**"
   ]
  },
  {
   "cell_type": "code",
   "execution_count": 21,
   "metadata": {},
   "outputs": [
    {
     "name": "stderr",
     "output_type": "stream",
     "text": [
      "/home/varshita/anaconda3/lib/python3.6/site-packages/ipykernel_launcher.py:1: UserWarning: Update your `Dense` call to the Keras 2 API: `Dense(activation=\"sigmoid\", units=1, kernel_initializer=\"glorot_uniform\")`\n",
      "  \"\"\"Entry point for launching an IPython kernel.\n"
     ]
    }
   ],
   "source": [
    "classifier.add(Dense(output_dim = 1, init = 'glorot_uniform', activation = 'sigmoid'))"
   ]
  },
  {
   "cell_type": "markdown",
   "metadata": {},
   "source": [
    "**Compiling the ANN**"
   ]
  },
  {
   "cell_type": "code",
   "execution_count": 22,
   "metadata": {},
   "outputs": [
    {
     "name": "stdout",
     "output_type": "stream",
     "text": [
      "WARNING:tensorflow:From /home/varshita/.local/lib/python3.6/site-packages/tensorflow/python/ops/nn_impl.py:180: add_dispatch_support.<locals>.wrapper (from tensorflow.python.ops.array_ops) is deprecated and will be removed in a future version.\n",
      "Instructions for updating:\n",
      "Use tf.where in 2.0, which has the same broadcast rule as np.where\n"
     ]
    }
   ],
   "source": [
    "classifier.compile(optimizer = 'Adamax', loss = 'binary_crossentropy', metrics = ['accuracy'])"
   ]
  },
  {
   "cell_type": "markdown",
   "metadata": {},
   "source": [
    "**Fitting the ANN to the Training set**"
   ]
  },
  {
   "cell_type": "code",
   "execution_count": 23,
   "metadata": {},
   "outputs": [
    {
     "name": "stderr",
     "output_type": "stream",
     "text": [
      "/home/varshita/anaconda3/lib/python3.6/site-packages/ipykernel_launcher.py:1: UserWarning: The `nb_epoch` argument in `fit` has been renamed `epochs`.\n",
      "  \"\"\"Entry point for launching an IPython kernel.\n"
     ]
    },
    {
     "name": "stdout",
     "output_type": "stream",
     "text": [
      "WARNING:tensorflow:From /home/varshita/anaconda3/lib/python3.6/site-packages/keras/backend/tensorflow_backend.py:422: The name tf.global_variables is deprecated. Please use tf.compat.v1.global_variables instead.\n",
      "\n",
      "Train on 5359 samples, validate on 2641 samples\n",
      "Epoch 1/100\n",
      "5359/5359 [==============================] - 1s 232us/step - loss: 0.6114 - accuracy: 0.7802 - val_loss: 0.5425 - val_accuracy: 0.7955\n",
      "Epoch 2/100\n",
      "5359/5359 [==============================] - 1s 202us/step - loss: 0.5213 - accuracy: 0.7962 - val_loss: 0.5010 - val_accuracy: 0.7955\n",
      "Epoch 3/100\n",
      "5359/5359 [==============================] - 1s 200us/step - loss: 0.4881 - accuracy: 0.7962 - val_loss: 0.4763 - val_accuracy: 0.7955\n",
      "Epoch 4/100\n",
      "5359/5359 [==============================] - 1s 198us/step - loss: 0.4664 - accuracy: 0.7962 - val_loss: 0.4604 - val_accuracy: 0.7955\n",
      "Epoch 5/100\n",
      "5359/5359 [==============================] - 1s 203us/step - loss: 0.4521 - accuracy: 0.7962 - val_loss: 0.4513 - val_accuracy: 0.7955\n",
      "Epoch 6/100\n",
      "5359/5359 [==============================] - 1s 200us/step - loss: 0.4428 - accuracy: 0.7966 - val_loss: 0.4449 - val_accuracy: 0.7970\n",
      "Epoch 7/100\n",
      "5359/5359 [==============================] - 1s 203us/step - loss: 0.4358 - accuracy: 0.7981 - val_loss: 0.4400 - val_accuracy: 0.7978\n",
      "Epoch 8/100\n",
      "5359/5359 [==============================] - 1s 233us/step - loss: 0.4305 - accuracy: 0.8000 - val_loss: 0.4363 - val_accuracy: 0.7989\n",
      "Epoch 9/100\n",
      "5359/5359 [==============================] - 1s 224us/step - loss: 0.4259 - accuracy: 0.8024 - val_loss: 0.4329 - val_accuracy: 0.8001\n",
      "Epoch 10/100\n",
      "5359/5359 [==============================] - 1s 248us/step - loss: 0.4215 - accuracy: 0.8057 - val_loss: 0.4295 - val_accuracy: 0.8092\n",
      "Epoch 11/100\n",
      "5359/5359 [==============================] - 1s 262us/step - loss: 0.4171 - accuracy: 0.8181 - val_loss: 0.4267 - val_accuracy: 0.8129\n",
      "Epoch 12/100\n",
      "5359/5359 [==============================] - 1s 280us/step - loss: 0.4132 - accuracy: 0.8237 - val_loss: 0.4238 - val_accuracy: 0.8145\n",
      "Epoch 13/100\n",
      "5359/5359 [==============================] - 1s 203us/step - loss: 0.4095 - accuracy: 0.8270 - val_loss: 0.4212 - val_accuracy: 0.8186\n",
      "Epoch 14/100\n",
      "5359/5359 [==============================] - 1s 207us/step - loss: 0.4062 - accuracy: 0.8289 - val_loss: 0.4183 - val_accuracy: 0.8198\n",
      "Epoch 15/100\n",
      "5359/5359 [==============================] - 1s 205us/step - loss: 0.4030 - accuracy: 0.8302 - val_loss: 0.4155 - val_accuracy: 0.8232\n",
      "Epoch 16/100\n",
      "5359/5359 [==============================] - 1s 205us/step - loss: 0.3995 - accuracy: 0.8296 - val_loss: 0.4126 - val_accuracy: 0.8232\n",
      "Epoch 17/100\n",
      "5359/5359 [==============================] - 1s 202us/step - loss: 0.3959 - accuracy: 0.8334 - val_loss: 0.4096 - val_accuracy: 0.8254\n",
      "Epoch 18/100\n",
      "5359/5359 [==============================] - 1s 216us/step - loss: 0.3922 - accuracy: 0.8332 - val_loss: 0.4066 - val_accuracy: 0.8251\n",
      "Epoch 19/100\n",
      "5359/5359 [==============================] - 1s 211us/step - loss: 0.3884 - accuracy: 0.8347 - val_loss: 0.4029 - val_accuracy: 0.8300\n",
      "Epoch 20/100\n",
      "5359/5359 [==============================] - 1s 212us/step - loss: 0.3843 - accuracy: 0.8375 - val_loss: 0.3997 - val_accuracy: 0.8304\n",
      "Epoch 21/100\n",
      "5359/5359 [==============================] - 1s 209us/step - loss: 0.3810 - accuracy: 0.8378 - val_loss: 0.3964 - val_accuracy: 0.8342\n",
      "Epoch 22/100\n",
      "5359/5359 [==============================] - 1s 210us/step - loss: 0.3771 - accuracy: 0.8395 - val_loss: 0.3936 - val_accuracy: 0.8364\n",
      "Epoch 23/100\n",
      "5359/5359 [==============================] - 1s 279us/step - loss: 0.3743 - accuracy: 0.8403 - val_loss: 0.3910 - val_accuracy: 0.8395\n",
      "Epoch 24/100\n",
      "5359/5359 [==============================] - 2s 281us/step - loss: 0.3708 - accuracy: 0.8416 - val_loss: 0.3886 - val_accuracy: 0.8391\n",
      "Epoch 25/100\n",
      "5359/5359 [==============================] - 2s 295us/step - loss: 0.3682 - accuracy: 0.8423 - val_loss: 0.3858 - val_accuracy: 0.8417\n",
      "Epoch 26/100\n",
      "5359/5359 [==============================] - 1s 194us/step - loss: 0.3652 - accuracy: 0.8429 - val_loss: 0.3833 - val_accuracy: 0.8432\n",
      "Epoch 27/100\n",
      "5359/5359 [==============================] - 1s 198us/step - loss: 0.3623 - accuracy: 0.8455 - val_loss: 0.3817 - val_accuracy: 0.8413\n",
      "Epoch 28/100\n",
      "5359/5359 [==============================] - 1s 176us/step - loss: 0.3597 - accuracy: 0.8475 - val_loss: 0.3802 - val_accuracy: 0.8417\n",
      "Epoch 29/100\n",
      "5359/5359 [==============================] - 1s 189us/step - loss: 0.3571 - accuracy: 0.8485 - val_loss: 0.3784 - val_accuracy: 0.8406\n",
      "Epoch 30/100\n",
      "5359/5359 [==============================] - 1s 201us/step - loss: 0.3550 - accuracy: 0.8481 - val_loss: 0.3761 - val_accuracy: 0.8410\n",
      "Epoch 31/100\n",
      "5359/5359 [==============================] - 1s 186us/step - loss: 0.3530 - accuracy: 0.8492 - val_loss: 0.3749 - val_accuracy: 0.8413\n",
      "Epoch 32/100\n",
      "5359/5359 [==============================] - 1s 208us/step - loss: 0.3510 - accuracy: 0.8509 - val_loss: 0.3742 - val_accuracy: 0.8425\n",
      "Epoch 33/100\n",
      "5359/5359 [==============================] - 1s 266us/step - loss: 0.3494 - accuracy: 0.8539 - val_loss: 0.3729 - val_accuracy: 0.8425\n",
      "Epoch 34/100\n",
      "5359/5359 [==============================] - 1s 231us/step - loss: 0.3480 - accuracy: 0.8541 - val_loss: 0.3724 - val_accuracy: 0.8421\n",
      "Epoch 35/100\n",
      "5359/5359 [==============================] - 1s 191us/step - loss: 0.3468 - accuracy: 0.8530 - val_loss: 0.3710 - val_accuracy: 0.8417\n",
      "Epoch 36/100\n",
      "5359/5359 [==============================] - 1s 212us/step - loss: 0.3456 - accuracy: 0.8554 - val_loss: 0.3708 - val_accuracy: 0.8417\n",
      "Epoch 37/100\n",
      "5359/5359 [==============================] - 2s 286us/step - loss: 0.3447 - accuracy: 0.8543 - val_loss: 0.3703 - val_accuracy: 0.8429\n",
      "Epoch 38/100\n",
      "5359/5359 [==============================] - 2s 288us/step - loss: 0.3434 - accuracy: 0.8558 - val_loss: 0.3701 - val_accuracy: 0.8417\n",
      "Epoch 39/100\n",
      "5359/5359 [==============================] - 1s 257us/step - loss: 0.3428 - accuracy: 0.8569 - val_loss: 0.3691 - val_accuracy: 0.8421\n",
      "Epoch 40/100\n",
      "5359/5359 [==============================] - 1s 175us/step - loss: 0.3419 - accuracy: 0.8574 - val_loss: 0.3687 - val_accuracy: 0.8432\n",
      "Epoch 41/100\n",
      "5359/5359 [==============================] - 1s 173us/step - loss: 0.3415 - accuracy: 0.8576 - val_loss: 0.3684 - val_accuracy: 0.8432\n",
      "Epoch 42/100\n",
      "5359/5359 [==============================] - 1s 177us/step - loss: 0.3407 - accuracy: 0.8572 - val_loss: 0.3686 - val_accuracy: 0.8429\n",
      "Epoch 43/100\n",
      "5359/5359 [==============================] - 1s 187us/step - loss: 0.3399 - accuracy: 0.8589 - val_loss: 0.3691 - val_accuracy: 0.8429\n",
      "Epoch 44/100\n",
      "5359/5359 [==============================] - 1s 208us/step - loss: 0.3397 - accuracy: 0.8578 - val_loss: 0.3676 - val_accuracy: 0.8432\n",
      "Epoch 45/100\n",
      "5359/5359 [==============================] - 1s 206us/step - loss: 0.3392 - accuracy: 0.8584 - val_loss: 0.3675 - val_accuracy: 0.8421\n",
      "Epoch 46/100\n",
      "5359/5359 [==============================] - 1s 207us/step - loss: 0.3386 - accuracy: 0.8580 - val_loss: 0.3673 - val_accuracy: 0.8425\n",
      "Epoch 47/100\n",
      "5359/5359 [==============================] - 1s 209us/step - loss: 0.3377 - accuracy: 0.8582 - val_loss: 0.3666 - val_accuracy: 0.8413\n",
      "Epoch 48/100\n",
      "5359/5359 [==============================] - 1s 211us/step - loss: 0.3370 - accuracy: 0.8586 - val_loss: 0.3678 - val_accuracy: 0.8432\n",
      "Epoch 49/100\n",
      "5359/5359 [==============================] - 1s 213us/step - loss: 0.3372 - accuracy: 0.8595 - val_loss: 0.3668 - val_accuracy: 0.8425\n",
      "Epoch 50/100\n",
      "5359/5359 [==============================] - 1s 270us/step - loss: 0.3365 - accuracy: 0.8582 - val_loss: 0.3661 - val_accuracy: 0.8425\n",
      "Epoch 51/100\n",
      "5359/5359 [==============================] - 2s 317us/step - loss: 0.3363 - accuracy: 0.8602 - val_loss: 0.3656 - val_accuracy: 0.8455\n",
      "Epoch 52/100\n",
      "5359/5359 [==============================] - 2s 291us/step - loss: 0.3362 - accuracy: 0.8589 - val_loss: 0.3658 - val_accuracy: 0.8448\n",
      "Epoch 53/100\n",
      "5359/5359 [==============================] - 1s 249us/step - loss: 0.3356 - accuracy: 0.8599 - val_loss: 0.3658 - val_accuracy: 0.8444\n",
      "Epoch 54/100\n"
     ]
    },
    {
     "name": "stdout",
     "output_type": "stream",
     "text": [
      "5359/5359 [==============================] - 1s 195us/step - loss: 0.3351 - accuracy: 0.8602 - val_loss: 0.3658 - val_accuracy: 0.8455\n",
      "Epoch 55/100\n",
      "5359/5359 [==============================] - 1s 192us/step - loss: 0.3352 - accuracy: 0.8615 - val_loss: 0.3663 - val_accuracy: 0.8459\n",
      "Epoch 56/100\n",
      "5359/5359 [==============================] - 1s 197us/step - loss: 0.3349 - accuracy: 0.8606 - val_loss: 0.3657 - val_accuracy: 0.8466\n",
      "Epoch 57/100\n",
      "5359/5359 [==============================] - 1s 194us/step - loss: 0.3345 - accuracy: 0.8606 - val_loss: 0.3656 - val_accuracy: 0.8440\n",
      "Epoch 58/100\n",
      "5359/5359 [==============================] - 1s 194us/step - loss: 0.3340 - accuracy: 0.8614 - val_loss: 0.3655 - val_accuracy: 0.8440\n",
      "Epoch 59/100\n",
      "5359/5359 [==============================] - 1s 193us/step - loss: 0.3337 - accuracy: 0.8599 - val_loss: 0.3647 - val_accuracy: 0.8444\n",
      "Epoch 60/100\n",
      "5359/5359 [==============================] - 1s 196us/step - loss: 0.3331 - accuracy: 0.8597 - val_loss: 0.3658 - val_accuracy: 0.8429\n",
      "Epoch 61/100\n",
      "5359/5359 [==============================] - 1s 194us/step - loss: 0.3335 - accuracy: 0.8615 - val_loss: 0.3641 - val_accuracy: 0.8451\n",
      "Epoch 62/100\n",
      "5359/5359 [==============================] - 1s 197us/step - loss: 0.3331 - accuracy: 0.8606 - val_loss: 0.3641 - val_accuracy: 0.8451\n",
      "Epoch 63/100\n",
      "5359/5359 [==============================] - 1s 199us/step - loss: 0.3331 - accuracy: 0.8600 - val_loss: 0.3640 - val_accuracy: 0.8440\n",
      "Epoch 64/100\n",
      "5359/5359 [==============================] - 1s 230us/step - loss: 0.3325 - accuracy: 0.8610 - val_loss: 0.3642 - val_accuracy: 0.8455\n",
      "Epoch 65/100\n",
      "5359/5359 [==============================] - 1s 257us/step - loss: 0.3325 - accuracy: 0.8597 - val_loss: 0.3645 - val_accuracy: 0.8455\n",
      "Epoch 66/100\n",
      "5359/5359 [==============================] - 1s 249us/step - loss: 0.3322 - accuracy: 0.8614 - val_loss: 0.3651 - val_accuracy: 0.8478\n",
      "Epoch 67/100\n",
      "5359/5359 [==============================] - 1s 214us/step - loss: 0.3325 - accuracy: 0.8615 - val_loss: 0.3639 - val_accuracy: 0.8455\n",
      "Epoch 68/100\n",
      "5359/5359 [==============================] - 1s 193us/step - loss: 0.3322 - accuracy: 0.8606 - val_loss: 0.3647 - val_accuracy: 0.8448\n",
      "Epoch 69/100\n",
      "5359/5359 [==============================] - 1s 186us/step - loss: 0.3319 - accuracy: 0.8619 - val_loss: 0.3637 - val_accuracy: 0.8451\n",
      "Epoch 70/100\n",
      "5359/5359 [==============================] - 1s 196us/step - loss: 0.3320 - accuracy: 0.8619 - val_loss: 0.3645 - val_accuracy: 0.8448\n",
      "Epoch 71/100\n",
      "5359/5359 [==============================] - 1s 188us/step - loss: 0.3317 - accuracy: 0.8638 - val_loss: 0.3649 - val_accuracy: 0.8451\n",
      "Epoch 72/100\n",
      "5359/5359 [==============================] - 1s 191us/step - loss: 0.3314 - accuracy: 0.8617 - val_loss: 0.3646 - val_accuracy: 0.8485\n",
      "Epoch 73/100\n",
      "5359/5359 [==============================] - 1s 189us/step - loss: 0.3314 - accuracy: 0.8614 - val_loss: 0.3644 - val_accuracy: 0.8474\n",
      "Epoch 74/100\n",
      "5359/5359 [==============================] - 1s 193us/step - loss: 0.3308 - accuracy: 0.8632 - val_loss: 0.3641 - val_accuracy: 0.8451\n",
      "Epoch 75/100\n",
      "5359/5359 [==============================] - 1s 188us/step - loss: 0.3309 - accuracy: 0.8625 - val_loss: 0.3644 - val_accuracy: 0.8474\n",
      "Epoch 76/100\n",
      "5359/5359 [==============================] - 1s 188us/step - loss: 0.3306 - accuracy: 0.8615 - val_loss: 0.3633 - val_accuracy: 0.8478\n",
      "Epoch 77/100\n",
      "5359/5359 [==============================] - 1s 188us/step - loss: 0.3301 - accuracy: 0.8619 - val_loss: 0.3655 - val_accuracy: 0.8463\n",
      "Epoch 78/100\n",
      "5359/5359 [==============================] - 1s 221us/step - loss: 0.3303 - accuracy: 0.8625 - val_loss: 0.3634 - val_accuracy: 0.8463\n",
      "Epoch 79/100\n",
      "5359/5359 [==============================] - 1s 256us/step - loss: 0.3303 - accuracy: 0.8636 - val_loss: 0.3638 - val_accuracy: 0.8451\n",
      "Epoch 80/100\n",
      "5359/5359 [==============================] - 1s 252us/step - loss: 0.3303 - accuracy: 0.8627 - val_loss: 0.3633 - val_accuracy: 0.8482\n",
      "Epoch 81/100\n",
      "5359/5359 [==============================] - 1s 260us/step - loss: 0.3302 - accuracy: 0.8614 - val_loss: 0.3636 - val_accuracy: 0.8478\n",
      "Epoch 82/100\n",
      "5359/5359 [==============================] - 1s 195us/step - loss: 0.3299 - accuracy: 0.8632 - val_loss: 0.3648 - val_accuracy: 0.8466\n",
      "Epoch 83/100\n",
      "5359/5359 [==============================] - 1s 192us/step - loss: 0.3300 - accuracy: 0.8625 - val_loss: 0.3635 - val_accuracy: 0.8455\n",
      "Epoch 84/100\n",
      "5359/5359 [==============================] - 1s 189us/step - loss: 0.3295 - accuracy: 0.8625 - val_loss: 0.3635 - val_accuracy: 0.8485\n",
      "Epoch 85/100\n",
      "5359/5359 [==============================] - 1s 191us/step - loss: 0.3295 - accuracy: 0.8617 - val_loss: 0.3645 - val_accuracy: 0.8455\n",
      "Epoch 86/100\n",
      "5359/5359 [==============================] - 1s 188us/step - loss: 0.3295 - accuracy: 0.8623 - val_loss: 0.3644 - val_accuracy: 0.8470\n",
      "Epoch 87/100\n",
      "5359/5359 [==============================] - 1s 188us/step - loss: 0.3294 - accuracy: 0.8628 - val_loss: 0.3642 - val_accuracy: 0.8459\n",
      "Epoch 88/100\n",
      "5359/5359 [==============================] - 1s 190us/step - loss: 0.3290 - accuracy: 0.8630 - val_loss: 0.3645 - val_accuracy: 0.8466\n",
      "Epoch 89/100\n",
      "5359/5359 [==============================] - 1s 193us/step - loss: 0.3290 - accuracy: 0.8640 - val_loss: 0.3650 - val_accuracy: 0.8508\n",
      "Epoch 90/100\n",
      "5359/5359 [==============================] - 1s 196us/step - loss: 0.3293 - accuracy: 0.8617 - val_loss: 0.3628 - val_accuracy: 0.8485\n",
      "Epoch 91/100\n",
      "5359/5359 [==============================] - 1s 192us/step - loss: 0.3289 - accuracy: 0.8628 - val_loss: 0.3631 - val_accuracy: 0.8478\n",
      "Epoch 92/100\n",
      "5359/5359 [==============================] - 1s 193us/step - loss: 0.3286 - accuracy: 0.8630 - val_loss: 0.3647 - val_accuracy: 0.8470\n",
      "Epoch 93/100\n",
      "5359/5359 [==============================] - 1s 259us/step - loss: 0.3289 - accuracy: 0.8638 - val_loss: 0.3637 - val_accuracy: 0.8497\n",
      "Epoch 94/100\n",
      "5359/5359 [==============================] - 1s 255us/step - loss: 0.3288 - accuracy: 0.8627 - val_loss: 0.3624 - val_accuracy: 0.8482\n",
      "Epoch 95/100\n",
      "5359/5359 [==============================] - 1s 273us/step - loss: 0.3285 - accuracy: 0.8627 - val_loss: 0.3637 - val_accuracy: 0.8478\n",
      "Epoch 96/100\n",
      "5359/5359 [==============================] - 1s 224us/step - loss: 0.3285 - accuracy: 0.8617 - val_loss: 0.3632 - val_accuracy: 0.8485\n",
      "Epoch 97/100\n",
      "5359/5359 [==============================] - 1s 216us/step - loss: 0.3282 - accuracy: 0.8640 - val_loss: 0.3636 - val_accuracy: 0.8485\n",
      "Epoch 98/100\n",
      "5359/5359 [==============================] - 1s 240us/step - loss: 0.3283 - accuracy: 0.8651 - val_loss: 0.3642 - val_accuracy: 0.8497\n",
      "Epoch 99/100\n",
      "5359/5359 [==============================] - 1s 211us/step - loss: 0.3284 - accuracy: 0.8632 - val_loss: 0.3631 - val_accuracy: 0.8478\n",
      "Epoch 100/100\n",
      "5359/5359 [==============================] - 1s 211us/step - loss: 0.3280 - accuracy: 0.8628 - val_loss: 0.3633 - val_accuracy: 0.8501\n"
     ]
    }
   ],
   "source": [
    "model_history=classifier.fit(xtrain, ytrain,validation_split=0.33, batch_size = 10, nb_epoch = 100)"
   ]
  },
  {
   "cell_type": "markdown",
   "metadata": {},
   "source": [
    "**List all data in history**"
   ]
  },
  {
   "cell_type": "code",
   "execution_count": 24,
   "metadata": {},
   "outputs": [
    {
     "data": {
      "text/plain": [
       "dict_keys(['val_loss', 'val_accuracy', 'loss', 'accuracy'])"
      ]
     },
     "execution_count": 24,
     "metadata": {},
     "output_type": "execute_result"
    }
   ],
   "source": [
    "model_history.history.keys()"
   ]
  },
  {
   "cell_type": "markdown",
   "metadata": {},
   "source": [
    "**Summarize history for accuracy**"
   ]
  },
  {
   "cell_type": "code",
   "execution_count": 25,
   "metadata": {},
   "outputs": [
    {
     "data": {
      "image/png": "[encoded data removed]",
      "text/plain": [
       "<Figure size 576x576 with 1 Axes>"
      ]
     },
     "metadata": {
      "needs_background": "light"
     },
     "output_type": "display_data"
    }
   ],
   "source": [
    "plt.figure(figsize=(8,8))\n",
    "plt.plot(model_history.history['accuracy'])\n",
    "plt.plot(model_history.history['val_accuracy'])\n",
    "plt.title('Model Accuracy')\n",
    "plt.ylabel('Accuracy')\n",
    "plt.xlabel('Epoch')\n",
    "plt.legend(['Train', 'Test'], loc='lower right')\n",
    "plt.show()"
   ]
  },
  {
   "cell_type": "markdown",
   "metadata": {},
   "source": [
    "**Summarize history for loss**"
   ]
  },
  {
   "cell_type": "code",
   "execution_count": 26,
   "metadata": {},
   "outputs": [
    {
     "data": {
      "image/png": "[encoded data removed]",
      "text/plain": [
       "<Figure size 576x576 with 1 Axes>"
      ]
     },
     "metadata": {
      "needs_background": "light"
     },
     "output_type": "display_data"
    }
   ],
   "source": [
    "plt.figure(figsize=(8,8))\n",
    "plt.plot(model_history.history['loss'])\n",
    "plt.plot(model_history.history['val_loss'])\n",
    "plt.title('Model Loss')\n",
    "plt.ylabel('Loss')\n",
    "plt.xlabel('Epoch')\n",
    "plt.legend(['Train', 'Test'], loc='upper right')\n",
    "plt.show()"
   ]
  },
  {
   "cell_type": "markdown",
   "metadata": {},
   "source": [
    "# Model Evaluation"
   ]
  },
  {
   "cell_type": "markdown",
   "metadata": {},
   "source": [
    "**Predicting the Test set results**"
   ]
  },
  {
   "cell_type": "code",
   "execution_count": 27,
   "metadata": {},
   "outputs": [],
   "source": [
    "ypred = classifier.predict(xtest)"
   ]
  },
  {
   "cell_type": "code",
   "execution_count": 28,
   "metadata": {},
   "outputs": [
    {
     "data": {
      "text/plain": [
       "array([[0.28349876],\n",
       "       [0.33242565],\n",
       "       [0.13210502],\n",
       "       ...,\n",
       "       [0.34723252],\n",
       "       [0.1013971 ],\n",
       "       [0.17424509]], dtype=float32)"
      ]
     },
     "execution_count": 28,
     "metadata": {},
     "output_type": "execute_result"
    }
   ],
   "source": [
    "ypred"
   ]
  },
  {
   "cell_type": "code",
   "execution_count": 29,
   "metadata": {},
   "outputs": [
    {
     "data": {
      "text/plain": [
       "array([[False],\n",
       "       [False],\n",
       "       [False],\n",
       "       ...,\n",
       "       [False],\n",
       "       [False],\n",
       "       [False]])"
      ]
     },
     "execution_count": 29,
     "metadata": {},
     "output_type": "execute_result"
    }
   ],
   "source": [
    "ypred = (ypred > 0.5)\n",
    "ypred"
   ]
  },
  {
   "cell_type": "markdown",
   "metadata": {},
   "source": [
    "**Confusion Matrix**"
   ]
  },
  {
   "cell_type": "code",
   "execution_count": 30,
   "metadata": {},
   "outputs": [
    {
     "name": "stdout",
     "output_type": "stream",
     "text": [
      "[[1526   69]\n",
      " [ 202  203]]\n"
     ]
    }
   ],
   "source": [
    "from sklearn.metrics import confusion_matrix\n",
    "cm = confusion_matrix(ytest, ypred)\n",
    "print(cm)"
   ]
  },
  {
   "cell_type": "markdown",
   "metadata": {},
   "source": [
    "**Plotting confusion matrix**"
   ]
  },
  {
   "cell_type": "code",
   "execution_count": 31,
   "metadata": {},
   "outputs": [
    {
     "data": {
      "image/png": "[encoded data removed]",
      "text/plain": [
       "<Figure size 576x432 with 2 Axes>"
      ]
     },
     "metadata": {
      "needs_background": "light"
     },
     "output_type": "display_data"
    }
   ],
   "source": [
    "plt.figure(figsize=(8,6))\n",
    "sns.heatmap(cm, cmap='Blues', annot=True, xticklabels=['Did not Exit', 'Exit'], yticklabels=['Did not Exit', 'Exit'])\n",
    "plt.xlabel('Predicted values')\n",
    "plt.ylabel('Actual values')\n",
    "plt.title('Confusion Matrix for ANN model')\n",
    "plt.show()"
   ]
  },
  {
   "cell_type": "markdown",
   "metadata": {},
   "source": [
    "**Calculate the Accuracy**"
   ]
  },
  {
   "cell_type": "code",
   "execution_count": 32,
   "metadata": {},
   "outputs": [
    {
     "name": "stdout",
     "output_type": "stream",
     "text": [
      "The accuracy for ANN model is: 86.45%\n"
     ]
    }
   ],
   "source": [
    "from sklearn.metrics import accuracy_score\n",
    "score = accuracy_score(ypred,ytest)\n",
    "print('The accuracy for ANN model is: {}%'.format(score*100))"
   ]
  },
  {
   "cell_type": "markdown",
   "metadata": {},
   "source": [
    "# Predictions"
   ]
  },
  {
   "cell_type": "code",
   "execution_count": 33,
   "metadata": {},
   "outputs": [],
   "source": [
    "def predict_exit(sample_value):\n",
    "  \n",
    "  # Convert list to numpy array\n",
    "    sample_value = np.array(sample_value)\n",
    "\n",
    "  # Reshape because sample_value contains only 1 record\n",
    "    sample_value = sample_value.reshape(1, -1)\n",
    "\n",
    "  # Feature Scaling\n",
    "    sample_value = sc.transform(sample_value)\n",
    "\n",
    "    return classifier.predict(sample_value)"
   ]
  },
  {
   "cell_type": "code",
   "execution_count": 34,
   "metadata": {},
   "outputs": [
    {
     "name": "stdout",
     "output_type": "stream",
     "text": [
      "Prediction: Low change of exit.\n"
     ]
    }
   ],
   "source": [
    "# Predictions 1\n",
    "# Value order 'CreditScore','Age','Tenure','Balance','NumOfProducts','HasCrCard','IsActiveMember','EstimatedSalary','Germany','Spain','Male'.\n",
    "sample_value = [738, 62, 10, 83008.31, 1, 1, 1, 42766.03, 1, 0, 1]\n",
    "if predict_exit(sample_value)>0.5:\n",
    "    print('Prediction: High change of exit!')\n",
    "else:\n",
    "    print('Prediction: Low change of exit.')"
   ]
  },
  {
   "cell_type": "code",
   "execution_count": 35,
   "metadata": {},
   "outputs": [
    {
     "name": "stdout",
     "output_type": "stream",
     "text": [
      "Prediction: High change of exit!\n"
     ]
    }
   ],
   "source": [
    "# Predictions 2\n",
    "# Value order 'CreditScore','Age','Tenure','Balance','NumOfProducts','HasCrCard','IsActiveMember','EstimatedSalary','Germany','Spain','Male'.\n",
    "sample_value = [805, 45, 9, 116585.97, 1, 1, 0, 189428.75, 1, 0, 0]\n",
    "if predict_exit(sample_value)>0.5:\n",
    "    print('Prediction: High change of exit!')\n",
    "else:\n",
    "    print('Prediction: Low change of exit.')"
   ]
  }
 ],
 "metadata": {
  "kernelspec": {
   "display_name": "Python 3",
   "language": "python",
   "name": "python3"
  },
  "language_info": {
   "codemirror_mode": {
    "name": "ipython",
    "version": 3
   },
   "file_extension": ".py",
   "mimetype": "text/x-python",
   "name": "python",
   "nbconvert_exporter": "python",
   "pygments_lexer": "ipython3",
   "version": "3.6.0"
  }
 },
 "nbformat": 4,
 "nbformat_minor": 2
}
